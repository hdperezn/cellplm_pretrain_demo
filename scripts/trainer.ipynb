{
 "cells": [
  {
   "cell_type": "code",
   "execution_count": 1,
   "metadata": {},
   "outputs": [
    {
     "name": "stderr",
     "output_type": "stream",
     "text": [
      "/home/hernan_melmoth/anaconda3/envs/cellplm/lib/python3.9/site-packages/tqdm/auto.py:21: TqdmWarning: IProgress not found. Please update jupyter and ipywidgets. See https://ipywidgets.readthedocs.io/en/stable/user_install.html\n",
      "  from .autonotebook import tqdm as notebook_tqdm\n"
     ]
    }
   ],
   "source": [
    "import torch\n",
    "from torch.utils.data import Dataset, DataLoader\n",
    "import scanpy as sc\n",
    "import numpy as np\n",
    "import os\n",
    "import matplotlib.pyplot as plt\n",
    "import seaborn as sns\n",
    "\n",
    "# Local CellPLM modules\n",
    "from CellPLM.model.cellformer import OmicsFormer\n",
    "from CellPLM.utils.data import TranscriptomicDataset  # assuming your file is in CellPLM/utils/data.py\n",
    "\n",
    "from CellPLM.utils.data       import TranscriptomicDataset, XDict\n"
   ]
  },
  {
   "cell_type": "code",
   "execution_count": 25,
   "metadata": {},
   "outputs": [
    {
     "name": "stdout",
     "output_type": "stream",
     "text": [
      "Gene matrix shape: torch.Size([10600, 3000])\n",
      "Gene names: ['COL1A1', 'COL1A2', 'PPY', 'CTRB1', 'CELA3A', 'CTRB2', 'SPINK1', 'COL3A1', 'CPB1', 'COL6A3']\n"
     ]
    },
    {
     "data": {
      "image/png": "[encoded data removed]",
      "text/plain": [
       "<Figure size 640x480 with 2 Axes>"
      ]
     },
     "metadata": {},
     "output_type": "display_data"
    }
   ],
   "source": [
    "# === Load AnnData ===\n",
    "adata = sc.read_h5ad(\"/home/hernan_melmoth/Documents/phd_work/Bio_ontology/CellPLM/CellPLM/data/demo_train.h5ad\")\n",
    "\n",
    "# Show gene matrix (cell x gene)\n",
    "X = adata.X.todense() if hasattr(adata.X, 'todense') else adata.X\n",
    "X = torch.FloatTensor(X)\n",
    "\n",
    "print(f\"Gene matrix shape: {X.shape}\")  # [num_cells, num_genes]\n",
    "print(\"Gene names:\", list(adata.var_names[:10]))  # show first 10 genes\n",
    "\n",
    "# View expression of first 5 cells\n",
    "sns.heatmap(X[:5, :20], cmap=\"viridis\")\n",
    "plt.title(\"Gene expression of first 5 cells (20 genes)\")\n",
    "plt.xlabel(\"Genes\")\n",
    "plt.ylabel(\"Cells\")\n",
    "plt.show()\n"
   ]
  },
  {
   "cell_type": "code",
   "execution_count": 26,
   "metadata": {},
   "outputs": [
    {
     "name": "stdout",
     "output_type": "stream",
     "text": [
      "tensor([[0.0000, 0.0000, 1.0242, 5.7558, 5.5564, 5.9811, 4.9988, 0.0000, 3.9825,\n",
      "         0.0000, 0.0000, 4.9368, 0.0000, 5.0343, 5.4298, 6.5833, 5.1179, 5.2146,\n",
      "         0.0000, 2.6662],\n",
      "        [0.0000, 0.0000, 0.7811, 6.0262, 5.6276, 6.2843, 5.2888, 0.0000, 4.2521,\n",
      "         0.0000, 0.0000, 5.0465, 0.0000, 5.2240, 5.5974, 7.0995, 4.1455, 6.0432,\n",
      "         0.0000, 0.0000],\n",
      "        [0.4175, 0.0000, 0.7111, 5.3161, 5.5203, 6.1426, 5.2087, 0.0000, 4.3983,\n",
      "         0.0000, 0.0000, 4.4837, 0.0000, 4.7493, 5.5347, 6.7351, 4.5839, 6.1514,\n",
      "         0.0000, 0.0000],\n",
      "        [0.0000, 0.0000, 0.0000, 5.4804, 5.0040, 6.5013, 5.0304, 0.0000, 2.9402,\n",
      "         0.0000, 0.0000, 4.6991, 0.0000, 4.2583, 4.8657, 6.5891, 5.2159, 5.6825,\n",
      "         0.0000, 0.0000],\n",
      "        [0.0000, 0.0000, 0.8198, 5.2516, 4.7531, 6.0238, 4.9822, 0.0000, 3.9953,\n",
      "         0.0000, 0.0000, 4.3299, 0.0000, 4.7476, 5.4364, 7.0847, 3.2734, 6.2085,\n",
      "         0.0000, 0.0000]])\n"
     ]
    }
   ],
   "source": [
    "print(X[:5, :20])"
   ]
  },
  {
   "cell_type": "code",
   "execution_count": 2,
   "metadata": {},
   "outputs": [
    {
     "ename": "NameError",
     "evalue": "name 'adata' is not defined",
     "output_type": "error",
     "traceback": [
      "\u001b[0;31m---------------------------------------------------------------------------\u001b[0m",
      "\u001b[0;31mNameError\u001b[0m                                 Traceback (most recent call last)",
      "Cell \u001b[0;32mIn[2], line 1\u001b[0m\n\u001b[0;32m----> 1\u001b[0m train_ds \u001b[38;5;241m=\u001b[39m TranscriptomicDataset(\u001b[43madata\u001b[49m, order_required\u001b[38;5;241m=\u001b[39m\u001b[38;5;28;01mFalse\u001b[39;00m)\n\u001b[1;32m      2\u001b[0m loader   \u001b[38;5;241m=\u001b[39m DataLoader(train_ds, batch_size\u001b[38;5;241m=\u001b[39m\u001b[38;5;28;01mNone\u001b[39;00m, shuffle\u001b[38;5;241m=\u001b[39m\u001b[38;5;28;01mTrue\u001b[39;00m, collate_fn\u001b[38;5;241m=\u001b[39m\u001b[38;5;28;01mlambda\u001b[39;00m x: x[\u001b[38;5;241m0\u001b[39m])\n\u001b[1;32m      4\u001b[0m \u001b[38;5;66;03m# --- 2. model ----------------------------------------------------------------\u001b[39;00m\n",
      "\u001b[0;31mNameError\u001b[0m: name 'adata' is not defined"
     ]
    }
   ],
   "source": [
    "train_ds = TranscriptomicDataset(adata, order_required=False)\n",
    "loader   = DataLoader(train_ds, batch_size=None, shuffle=True, collate_fn=lambda x: x[0])\n",
    "\n",
    "# --- 2. model ----------------------------------------------------------------\n",
    "gene_list = adata.var_names.tolist()\n",
    "model = OmicsFormer(gene_list,\n",
    "                    enc_mod=\"transformer\",\n",
    "                    enc_hid=256,\n",
    "                    enc_layers=4,\n",
    "                    post_latent_dim=128,\n",
    "                    dec_mod=\"mlp\",\n",
    "                    dec_hid=256,\n",
    "                    dec_layers=2,\n",
    "                    out_dim=len(gene_list),\n",
    "                    batch_num=len(train_ds.batch_list),\n",
    "                    platform_num=len(set(adata.obs[\"platform\"])),\n",
    "                    pe_type=None,         # <-- disable PE for now\n",
    "                    cat_pe=False).cuda()\n",
    "\n",
    "opt = torch.optim.AdamW(model.parameters(), lr=2e-4, weight_decay=1e-6)\n",
    "\n",
    "# --- 3. training -------------------------------------------------------------\n",
    "for epoch in range(3):                          # run a few epochs to test\n",
    "    model.train()\n",
    "    running = 0\n",
    "    for data_dict in loader:\n",
    "        # move tensors to GPU\n",
    "        for k,v in data_dict.items():\n",
    "            if torch.is_tensor(v):\n",
    "                data_dict[k] = v.cuda()\n",
    "        # dummy gene mask = keep all genes\n",
    "        data_dict['gene_mask'] = torch.ones(len(gene_list), dtype=torch.bool, device='cuda')\n",
    "\n",
    "        x_dict = XDict(data_dict)\n",
    "        _, loss = model(x_dict, data_dict['gene_list'])\n",
    "\n",
    "        opt.zero_grad()\n",
    "        loss.backward()\n",
    "        torch.nn.utils.clip_grad_norm_(model.parameters(), 1.0)\n",
    "        opt.step()\n",
    "        running += loss.item()\n",
    "\n",
    "    print(f\"Epoch {epoch}   loss = {running / len(loader):.4f}\")\n",
    "    torch.save(model.state_dict(), f\"ckpt/epoch-{epoch}.pt\")"
   ]
  },
  {
   "cell_type": "code",
   "execution_count": 40,
   "metadata": {},
   "outputs": [],
   "source": [
    "gene_list = adata.var_names.tolist()\n",
    "model = OmicsFormer(\n",
    "        gene_list        = gene_list,\n",
    "        enc_mod          = \"transformer\",   # or \"flowformer\", etc.\n",
    "        enc_hid          = 128,             # keep small for demo\n",
    "        enc_layers       = 2,\n",
    "        post_latent_dim  = 64,\n",
    "        dec_mod          = \"mlp\",\n",
    "        dec_hid          = 128,\n",
    "        dec_layers       = 2,\n",
    "        out_dim          = len(gene_list),\n",
    "        batch_num        = len(ds.batch_list),\n",
    "        pe_type=None,          # disable positional encodings\n",
    "        cat_pe=False,          # (must match)\n",
    ").to(\"cuda\" if torch.cuda.is_available() else \"cpu\")"
   ]
  },
  {
   "cell_type": "code",
   "execution_count": 41,
   "metadata": {},
   "outputs": [],
   "source": [
    "optim = torch.optim.AdamW(model.parameters(), lr=1e-3, weight_decay=1e-6)\n"
   ]
  },
  {
   "cell_type": "code",
   "execution_count": 42,
   "metadata": {},
   "outputs": [],
   "source": [
    "def training_step(x_dict):\n",
    "    # ❶ Move tensors to device\n",
    "    device = next(model.parameters()).device\n",
    "    for k,v in x_dict.items():\n",
    "        if torch.is_tensor(v):\n",
    "            x_dict[k] = v.to(device)\n",
    "\n",
    "    # ❷ The mask builder inside the model needs x_dict['gene_mask'].\n",
    "    #    For the demo we simply keep every gene.\n",
    "    if 'gene_mask' not in x_dict:\n",
    "        x_dict['gene_mask'] = torch.ones(len(gene_list), dtype=torch.bool, device=device)\n",
    "\n",
    "    # ❸ Forward + loss\n",
    "    model.train()\n",
    "    out, loss = model(x_dict)\n",
    "    return loss, out\n"
   ]
  },
  {
   "cell_type": "code",
   "execution_count": 44,
   "metadata": {},
   "outputs": [
    {
     "name": "stderr",
     "output_type": "stream",
     "text": [
      "epoch 0:   0%|          | 0/1 [00:00<?, ?it/s]\n"
     ]
    },
    {
     "ename": "KeyError",
     "evalue": "'batch'",
     "output_type": "error",
     "traceback": [
      "\u001b[0;31m---------------------------------------------------------------------------\u001b[0m",
      "\u001b[0;31mKeyError\u001b[0m                                  Traceback (most recent call last)",
      "Cell \u001b[0;32mIn[44], line 8\u001b[0m\n\u001b[1;32m      6\u001b[0m \u001b[38;5;28;01mfor\u001b[39;00m x \u001b[38;5;129;01min\u001b[39;00m pbar:\n\u001b[1;32m      7\u001b[0m     optim\u001b[38;5;241m.\u001b[39mzero_grad()\n\u001b[0;32m----> 8\u001b[0m     loss, _ \u001b[38;5;241m=\u001b[39m \u001b[43mtraining_step\u001b[49m\u001b[43m(\u001b[49m\u001b[43mx\u001b[49m\u001b[43m)\u001b[49m\n\u001b[1;32m      9\u001b[0m     loss\u001b[38;5;241m.\u001b[39mbackward()\n\u001b[1;32m     10\u001b[0m     torch\u001b[38;5;241m.\u001b[39mnn\u001b[38;5;241m.\u001b[39mutils\u001b[38;5;241m.\u001b[39mclip_grad_norm_(model\u001b[38;5;241m.\u001b[39mparameters(), \u001b[38;5;241m1.0\u001b[39m)\n",
      "Cell \u001b[0;32mIn[42], line 15\u001b[0m, in \u001b[0;36mtraining_step\u001b[0;34m(x_dict)\u001b[0m\n\u001b[1;32m     13\u001b[0m \u001b[38;5;66;03m# ❸ Forward + loss\u001b[39;00m\n\u001b[1;32m     14\u001b[0m model\u001b[38;5;241m.\u001b[39mtrain()\n\u001b[0;32m---> 15\u001b[0m out, loss \u001b[38;5;241m=\u001b[39m \u001b[43mmodel\u001b[49m\u001b[43m(\u001b[49m\u001b[43mx_dict\u001b[49m\u001b[43m)\u001b[49m\n\u001b[1;32m     16\u001b[0m \u001b[38;5;28;01mreturn\u001b[39;00m loss, out\n",
      "File \u001b[0;32m~/anaconda3/envs/cellplm/lib/python3.9/site-packages/torch/nn/modules/module.py:1190\u001b[0m, in \u001b[0;36mModule._call_impl\u001b[0;34m(self, *input, **kwargs)\u001b[0m\n\u001b[1;32m   1186\u001b[0m \u001b[38;5;66;03m# If we don't have any hooks, we want to skip the rest of the logic in\u001b[39;00m\n\u001b[1;32m   1187\u001b[0m \u001b[38;5;66;03m# this function, and just call forward.\u001b[39;00m\n\u001b[1;32m   1188\u001b[0m \u001b[38;5;28;01mif\u001b[39;00m \u001b[38;5;129;01mnot\u001b[39;00m (\u001b[38;5;28mself\u001b[39m\u001b[38;5;241m.\u001b[39m_backward_hooks \u001b[38;5;129;01mor\u001b[39;00m \u001b[38;5;28mself\u001b[39m\u001b[38;5;241m.\u001b[39m_forward_hooks \u001b[38;5;129;01mor\u001b[39;00m \u001b[38;5;28mself\u001b[39m\u001b[38;5;241m.\u001b[39m_forward_pre_hooks \u001b[38;5;129;01mor\u001b[39;00m _global_backward_hooks\n\u001b[1;32m   1189\u001b[0m         \u001b[38;5;129;01mor\u001b[39;00m _global_forward_hooks \u001b[38;5;129;01mor\u001b[39;00m _global_forward_pre_hooks):\n\u001b[0;32m-> 1190\u001b[0m     \u001b[38;5;28;01mreturn\u001b[39;00m \u001b[43mforward_call\u001b[49m\u001b[43m(\u001b[49m\u001b[38;5;241;43m*\u001b[39;49m\u001b[38;5;28;43minput\u001b[39;49m\u001b[43m,\u001b[49m\u001b[43m \u001b[49m\u001b[38;5;241;43m*\u001b[39;49m\u001b[38;5;241;43m*\u001b[39;49m\u001b[43mkwargs\u001b[49m\u001b[43m)\u001b[49m\n\u001b[1;32m   1191\u001b[0m \u001b[38;5;66;03m# Do not call functions when jit is used\u001b[39;00m\n\u001b[1;32m   1192\u001b[0m full_backward_hooks, non_full_backward_hooks \u001b[38;5;241m=\u001b[39m [], []\n",
      "File \u001b[0;32m~/anaconda3/envs/cellplm/lib/python3.9/site-packages/CellPLM/model/cellformer.py:108\u001b[0m, in \u001b[0;36mOmicsFormer.forward\u001b[0;34m(self, x_dict, input_gene_list, d_iter)\u001b[0m\n\u001b[1;32m    106\u001b[0m     out_dict[\u001b[38;5;124m'\u001b[39m\u001b[38;5;124mtarget_loss\u001b[39m\u001b[38;5;124m'\u001b[39m] \u001b[38;5;241m=\u001b[39m loss\u001b[38;5;241m.\u001b[39mitem()\n\u001b[1;32m    107\u001b[0m \u001b[38;5;28;01melse\u001b[39;00m:\n\u001b[0;32m--> 108\u001b[0m     out_dict \u001b[38;5;241m=\u001b[39m \u001b[38;5;28;43mself\u001b[39;49m\u001b[38;5;241;43m.\u001b[39;49m\u001b[43mdecoder\u001b[49m\u001b[43m(\u001b[49m\u001b[43mx_dict\u001b[49m\u001b[43m)\u001b[49m\n\u001b[1;32m    109\u001b[0m     loss \u001b[38;5;241m=\u001b[39m latent_loss \u001b[38;5;241m+\u001b[39m \u001b[38;5;28mself\u001b[39m\u001b[38;5;241m.\u001b[39mobjective(out_dict, x_dict) \u001b[38;5;66;03m#/ 1e4\u001b[39;00m\n\u001b[1;32m    110\u001b[0m     out_dict[\u001b[38;5;124m'\u001b[39m\u001b[38;5;124mlatent_loss\u001b[39m\u001b[38;5;124m'\u001b[39m] \u001b[38;5;241m=\u001b[39m latent_loss\u001b[38;5;241m.\u001b[39mitem() \u001b[38;5;28;01mif\u001b[39;00m torch\u001b[38;5;241m.\u001b[39mis_tensor(latent_loss) \u001b[38;5;28;01melse\u001b[39;00m latent_loss\n",
      "File \u001b[0;32m~/anaconda3/envs/cellplm/lib/python3.9/site-packages/torch/nn/modules/module.py:1190\u001b[0m, in \u001b[0;36mModule._call_impl\u001b[0;34m(self, *input, **kwargs)\u001b[0m\n\u001b[1;32m   1186\u001b[0m \u001b[38;5;66;03m# If we don't have any hooks, we want to skip the rest of the logic in\u001b[39;00m\n\u001b[1;32m   1187\u001b[0m \u001b[38;5;66;03m# this function, and just call forward.\u001b[39;00m\n\u001b[1;32m   1188\u001b[0m \u001b[38;5;28;01mif\u001b[39;00m \u001b[38;5;129;01mnot\u001b[39;00m (\u001b[38;5;28mself\u001b[39m\u001b[38;5;241m.\u001b[39m_backward_hooks \u001b[38;5;129;01mor\u001b[39;00m \u001b[38;5;28mself\u001b[39m\u001b[38;5;241m.\u001b[39m_forward_hooks \u001b[38;5;129;01mor\u001b[39;00m \u001b[38;5;28mself\u001b[39m\u001b[38;5;241m.\u001b[39m_forward_pre_hooks \u001b[38;5;129;01mor\u001b[39;00m _global_backward_hooks\n\u001b[1;32m   1189\u001b[0m         \u001b[38;5;129;01mor\u001b[39;00m _global_forward_hooks \u001b[38;5;129;01mor\u001b[39;00m _global_forward_pre_hooks):\n\u001b[0;32m-> 1190\u001b[0m     \u001b[38;5;28;01mreturn\u001b[39;00m \u001b[43mforward_call\u001b[49m\u001b[43m(\u001b[49m\u001b[38;5;241;43m*\u001b[39;49m\u001b[38;5;28;43minput\u001b[39;49m\u001b[43m,\u001b[49m\u001b[43m \u001b[49m\u001b[38;5;241;43m*\u001b[39;49m\u001b[38;5;241;43m*\u001b[39;49m\u001b[43mkwargs\u001b[49m\u001b[43m)\u001b[49m\n\u001b[1;32m   1191\u001b[0m \u001b[38;5;66;03m# Do not call functions when jit is used\u001b[39;00m\n\u001b[1;32m   1192\u001b[0m full_backward_hooks, non_full_backward_hooks \u001b[38;5;241m=\u001b[39m [], []\n",
      "File \u001b[0;32m~/anaconda3/envs/cellplm/lib/python3.9/site-packages/CellPLM/decoder/mlp.py:68\u001b[0m, in \u001b[0;36mMLPDecoder.forward\u001b[0;34m(self, x_dict)\u001b[0m\n\u001b[1;32m     66\u001b[0m covariates \u001b[38;5;241m=\u001b[39m []\n\u001b[1;32m     67\u001b[0m \u001b[38;5;28;01mif\u001b[39;00m \u001b[38;5;28mself\u001b[39m\u001b[38;5;241m.\u001b[39mbatch_num \u001b[38;5;241m>\u001b[39m \u001b[38;5;241m0\u001b[39m:\n\u001b[0;32m---> 68\u001b[0m     covariates\u001b[38;5;241m.\u001b[39mappend(F\u001b[38;5;241m.\u001b[39mone_hot(\u001b[43mx_dict\u001b[49m\u001b[43m[\u001b[49m\u001b[38;5;124;43m'\u001b[39;49m\u001b[38;5;124;43mbatch\u001b[39;49m\u001b[38;5;124;43m'\u001b[39;49m\u001b[43m]\u001b[49m, num_classes\u001b[38;5;241m=\u001b[39m\u001b[38;5;28mself\u001b[39m\u001b[38;5;241m.\u001b[39mbatch_num))\n\u001b[1;32m     69\u001b[0m \u001b[38;5;28;01mif\u001b[39;00m \u001b[38;5;28mself\u001b[39m\u001b[38;5;241m.\u001b[39mdataset_num \u001b[38;5;241m>\u001b[39m \u001b[38;5;241m0\u001b[39m:\n\u001b[1;32m     70\u001b[0m     covariates\u001b[38;5;241m.\u001b[39mappend(F\u001b[38;5;241m.\u001b[39mone_hot(x_dict[\u001b[38;5;124m'\u001b[39m\u001b[38;5;124mdataset\u001b[39m\u001b[38;5;124m'\u001b[39m], num_classes\u001b[38;5;241m=\u001b[39m\u001b[38;5;28mself\u001b[39m\u001b[38;5;241m.\u001b[39mdataset_num))\n",
      "\u001b[0;31mKeyError\u001b[0m: 'batch'"
     ]
    }
   ],
   "source": [
    "from tqdm import tqdm\n",
    "n_epochs = 1\n",
    "\n",
    "for epoch in range(n_epochs):\n",
    "    pbar = tqdm(loader, desc=f\"epoch {epoch}\")\n",
    "    for x in pbar:\n",
    "        optim.zero_grad()\n",
    "        loss, _ = training_step(x)\n",
    "        loss.backward()\n",
    "        torch.nn.utils.clip_grad_norm_(model.parameters(), 1.0)\n",
    "        optim.step()\n",
    "        pbar.set_postfix({\"loss\": f\"{loss.item():.4f}\"})\n"
   ]
  },
  {
   "cell_type": "code",
   "execution_count": null,
   "metadata": {},
   "outputs": [],
   "source": []
  },
  {
   "cell_type": "code",
   "execution_count": null,
   "metadata": {},
   "outputs": [],
   "source": []
  },
  {
   "cell_type": "code",
   "execution_count": null,
   "metadata": {},
   "outputs": [],
   "source": [
    "\n",
    "# === Build model ===\n",
    "device = torch.device(\"cuda\" if torch.cuda.is_available() else \"cpu\")\n",
    "\n",
    "model = OmicsFormer(\n",
    "    gene_list=gene_list,\n",
    "    enc_mod='transformer',\n",
    "    enc_hid=128,\n",
    "    enc_layers=3,\n",
    "    post_latent_dim=64,\n",
    "    dec_mod='mlp',\n",
    "    dec_hid=128,\n",
    "    dec_layers=2,\n",
    "    out_dim=len(gene_list),\n",
    "    batch_num=1,\n",
    "    latent_mod='gmvae',\n",
    ").to(device)\n",
    "\n",
    "optimizer = torch.optim.Adam(model.parameters(), lr=1e-3)\n",
    "\n",
    "# === Training Loop ===\n",
    "EPOCHS = 20\n",
    "os.makedirs(\"ckpt\", exist_ok=True)\n",
    "\n",
    "for epoch in range(EPOCHS):\n",
    "    model.train()\n",
    "    total_loss = 0\n",
    "    for batch in dataloader:\n",
    "        x = batch['x'].to(device)\n",
    "        x_dict = {\n",
    "            'x': x,\n",
    "            'batch': torch.zeros(x.size(0), dtype=torch.long).to(device)\n",
    "        }\n",
    "\n",
    "        x_dict = model.mask_model.apply_mask(x_dict)\n",
    "\n",
    "        output, loss = model(x_dict)\n",
    "\n",
    "        optimizer.zero_grad()\n",
    "        loss.backward()\n",
    "        optimizer.step()\n",
    "\n",
    "        total_loss += loss.item()\n",
    "\n",
    "    print(f\"Epoch {epoch+1}/{EPOCHS} | Loss: {total_loss / len(dataloader):.4f}\")\n",
    "\n",
    "    # Save model\n",
    "    torch.save(model.state_dict(), f\"ckpt/epoch_{epoch+1}.pt\")\n"
   ]
  }
 ],
 "metadata": {
  "kernelspec": {
   "display_name": "cellplm",
   "language": "python",
   "name": "python3"
  },
  "language_info": {
   "codemirror_mode": {
    "name": "ipython",
    "version": 3
   },
   "file_extension": ".py",
   "mimetype": "text/x-python",
   "name": "python",
   "nbconvert_exporter": "python",
   "pygments_lexer": "ipython3",
   "version": "3.9.21"
  }
 },
 "nbformat": 4,
 "nbformat_minor": 2
}
